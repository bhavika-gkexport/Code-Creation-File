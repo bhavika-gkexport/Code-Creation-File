{
 "cells": [
  {
   "cell_type": "code",
   "execution_count": 1,
   "metadata": {},
   "outputs": [],
   "source": [
    "import pandas as pd"
   ]
  },
  {
   "cell_type": "code",
   "execution_count": 34,
   "metadata": {},
   "outputs": [],
   "source": [
    "df = pd.read_excel(\"GK STONE 3.xls\", sheet_name=None)\n",
    "\n",
    "# Concatenate all sheets into one DataFrame\n",
    "combined_df = pd.concat(df.values(), ignore_index=True)"
   ]
  },
  {
   "cell_type": "code",
   "execution_count": 35,
   "metadata": {},
   "outputs": [],
   "source": [
    "combined_df.to_excel(\"Stone 3.xlsx\",index=False)"
   ]
  },
  {
   "cell_type": "code",
   "execution_count": 4,
   "metadata": {},
   "outputs": [],
   "source": [
    "combined_df.to_excel(\"HITEN DATA.xlsx\",index=False)"
   ]
  },
  {
   "cell_type": "code",
   "execution_count": 6,
   "metadata": {},
   "outputs": [],
   "source": [
    "# make better format of Excel from given imported foramt\n",
    "\n",
    "import pandas as pd\n",
    "\n",
    "# Load Excel file into a DataFrame\n",
    "df = pd.read_excel(\"Diamond Setting Combined Data.xlsx\")\n",
    "\n",
    "# Concatenate all sheets into one DataFrame\n",
    "# combined_df = pd.concat(df.values(), ignore_index=True)\n",
    "\n",
    "# Extracting data from the combined DataFrame\n",
    "gemstone_type = []\n",
    "stone_shape = []\n",
    "gemstone_quality = []\n",
    "gemstone_grade = []\n",
    "gemstone_size = []\n",
    "faceted_cabochon = []\n",
    "gemstone_pr = []\n",
    "per_pc_per_carat = []\n",
    "\n",
    "for i in df.values.tolist():\n",
    "    if i[5] == 'Gemstone Type':\n",
    "        gemstone_type.append(i[6])\n",
    "    if i[5] == 'Stone Shape':\n",
    "        stone_shape.append(i[6])\n",
    "    if i[5] == 'Gemstone Quality':\n",
    "        gemstone_quality.append(i[6])\n",
    "    if i[5] == 'Gemstone Grade':\n",
    "        gemstone_grade.append(i[6])\n",
    "    if i[5] == 'Gemstone Size':\n",
    "        gemstone_size.append(i[6])\n",
    "    if i[5] == 'Faceted/Cabochon':\n",
    "        faceted_cabochon.append(i[6])\n",
    "    if i[5] == 'Gemstone PR':\n",
    "        gemstone_pr.append(i[6])\n",
    "    if i[5] == 'Per Pc or Per Carat':\n",
    "        per_pc_per_carat.append(i[6])\n",
    "\n",
    "# Creating a new DataFrame\n",
    "data = {\n",
    "    'Gemstone Type': gemstone_type,\n",
    "    'Stone Shape': stone_shape,\n",
    "    'Gemstone Quality': gemstone_quality,\n",
    "    'Gemstone Grade': gemstone_grade,\n",
    "    'Gemstone Size': gemstone_size,\n",
    "    'Faceted/Cabochon': faceted_cabochon,\n",
    "    'Gemstone PR': gemstone_pr,\n",
    "    'Per Pc or Per Carat': per_pc_per_carat\n",
    "}\n",
    "new_df = pd.DataFrame(data)\n",
    "\n",
    "# Capitalize string columns\n",
    "columns_to_capitalize = ['Gemstone Type', 'Stone Shape', 'Gemstone Quality', 'Gemstone Grade', 'Faceted/Cabochon']\n",
    "new_df[columns_to_capitalize] = new_df[columns_to_capitalize].apply(lambda x: x.str.capitalize())\n",
    "\n",
    "# Save each group into separate sheets based on Gemstone Quality and Gemstone Grade\n",
    "# with pd.ExcelWriter(\"Open Latest.xlsx\") as writer:\n",
    "#     for (quality, grade), group in new_df.groupby(['Gemstone Quality', 'Gemstone Grade']):\n",
    "#         sheet_name = f\"{quality.capitalize()}_{grade.capitalize()}\"\n",
    "#         group.to_excel(writer, sheet_name=sheet_name, index=False)\n",
    "\n",
    "# print(\"Excel file 'Close Latest.xlsx' created with separate sheets for each Gemstone Quality and Gemstone Grade.\")\n"
   ]
  },
  {
   "cell_type": "code",
   "execution_count": 7,
   "metadata": {},
   "outputs": [
    {
     "data": {
      "text/html": [
       "<div>\n",
       "<style scoped>\n",
       "    .dataframe tbody tr th:only-of-type {\n",
       "        vertical-align: middle;\n",
       "    }\n",
       "\n",
       "    .dataframe tbody tr th {\n",
       "        vertical-align: top;\n",
       "    }\n",
       "\n",
       "    .dataframe thead th {\n",
       "        text-align: right;\n",
       "    }\n",
       "</style>\n",
       "<table border=\"1\" class=\"dataframe\">\n",
       "  <thead>\n",
       "    <tr style=\"text-align: right;\">\n",
       "      <th></th>\n",
       "      <th>Gemstone Type</th>\n",
       "      <th>Stone Shape</th>\n",
       "      <th>Gemstone Quality</th>\n",
       "      <th>Gemstone Grade</th>\n",
       "      <th>Gemstone Size</th>\n",
       "      <th>Faceted/Cabochon</th>\n",
       "      <th>Gemstone PR</th>\n",
       "      <th>Per Pc or Per Carat</th>\n",
       "    </tr>\n",
       "  </thead>\n",
       "  <tbody>\n",
       "  </tbody>\n",
       "</table>\n",
       "</div>"
      ],
      "text/plain": [
       "Empty DataFrame\n",
       "Columns: [Gemstone Type, Stone Shape, Gemstone Quality, Gemstone Grade, Gemstone Size, Faceted/Cabochon, Gemstone PR, Per Pc or Per Carat]\n",
       "Index: []"
      ]
     },
     "execution_count": 7,
     "metadata": {},
     "output_type": "execute_result"
    }
   ],
   "source": [
    "new_df"
   ]
  },
  {
   "cell_type": "code",
   "execution_count": 8,
   "metadata": {},
   "outputs": [],
   "source": [
    "new_df= pd.read_excel(\"HITEN DATA.xlsx\")"
   ]
  },
  {
   "cell_type": "code",
   "execution_count": 10,
   "metadata": {},
   "outputs": [
    {
     "name": "stdout",
     "output_type": "stream",
     "text": [
      "Excel file 'Close Latest.xlsx' created with separate sheets for each Gemstone Quality and Gemstone Grade.\n"
     ]
    }
   ],
   "source": [
    "# Capitalize string columns\n",
    "columns_to_capitalize = ['Gemstone Type', 'Stone Shape', 'Gemstone Quality', 'Gemstone Grade', 'Faceted/Cabochon']\n",
    "new_df[columns_to_capitalize] = new_df[columns_to_capitalize].apply(lambda x: x.str.capitalize())\n",
    "\n",
    "# Save each group into separate sheets based on Gemstone Quality and Gemstone Grade\n",
    "with pd.ExcelWriter(\"Open Latest Dabo 2.xlsx\") as writer:\n",
    "    for (quality, grade), group in new_df.groupby(['Gemstone Quality', 'Gemstone Grade']):\n",
    "        sheet_name = f\"{quality.capitalize()}_{grade.capitalize()}\"\n",
    "        group.to_excel(writer, sheet_name=sheet_name, index=False)\n",
    "\n",
    "print(\"Excel file 'Close Latest.xlsx' created with separate sheets for each Gemstone Quality and Gemstone Grade.\")\n"
   ]
  },
  {
   "cell_type": "code",
   "execution_count": 45,
   "metadata": {},
   "outputs": [],
   "source": [
    "# make gemstone Item code from final_data.json file\n",
    "\n",
    "df = pd.read_excel(\"Stone 3.xlsx\")\n",
    "import json\n",
    "codes = []\n",
    "# Assuming the JSON data is stored in a file named \"data.json\"\n",
    "with open('final_data.json', 'r') as file:\n",
    "    data = json.load(file)\n",
    "for i in df.values.tolist():\n",
    "    # print(i)\n",
    "    code = 'G-' + data['gemstone_type'][i[0].lower()] + '-' + data['stone_shape'][i[1].lower()] + '-' + data['gemstone_quality'][i[2].lower()] + '-' + data['gemstone_grade'][i[3].lower()] + '-' + data['gemstone_size'][i[4].lower()] + '-' + data['cut_or_cab'][i[5].lower()] + '-' + str(data['gemstone_pr'][str(i[6]).replace('.0','')]) + '-' + data['per_pc_per_carat'][i[7].lower()]\n",
    "    # print(code)\n",
    "    codes.append(code)\n",
    "\n",
    "df['Gemstone Code'] = codes\n",
    "# df.to_excel('Final Close latest.xlsx',index=False)"
   ]
  },
  {
   "cell_type": "code",
   "execution_count": 46,
   "metadata": {},
   "outputs": [],
   "source": [
    "df.to_excel('Final Stone 3.xlsx',index=False)"
   ]
  },
  {
   "cell_type": "code",
   "execution_count": null,
   "metadata": {},
   "outputs": [],
   "source": [
    "# make item code from given imported format\n",
    "\n",
    "import pandas as pd\n",
    "import json\n",
    "\n",
    "# Read the Excel file\n",
    "df1 = pd.read_excel(\"CODE 3.xlsx\")\n",
    "\n",
    "# Load the JSON data\n",
    "with open('final_data2.json', 'r') as file:\n",
    "    data = json.load(file)\n",
    "\n",
    "# Convert DataFrame to list of lists\n",
    "all_lists = df1.values.tolist()\n",
    "\n",
    "# Grouping the sublists into groups of 8\n",
    "groups_of_8 = [all_lists[i:i+8] for i in range(0, len(all_lists), 8)]\n",
    "\n",
    "# Process each group and add item_code to the first element of each group\n",
    "for group in groups_of_8:\n",
    "    co = []\n",
    "    first_item = group[0]  # First element of the group\n",
    "    for k in group:\n",
    "        if k[5] == 'Gemstone Type1':\n",
    "            co.append(data['gemstone_type'][k[6].lower()])\n",
    "        if k[5] == 'Stone Shape':\n",
    "            co.append(data['stone_shape'][k[6].lower()])\n",
    "        if k[5] == 'Gemstone Quality':\n",
    "            co.append(data['gemstone_quality'][k[6].lower()])\n",
    "        if k[5] == 'Gemstone Grade':\n",
    "            co.append(data['gemstone_grade'][k[6].lower()])\n",
    "        if k[5] == 'Gemstone Size':\n",
    "            co.append(data['gemstone_size'][k[6].lower()])\n",
    "        if k[5] == 'Faceted/Cabochon':\n",
    "            co.append(data['cut_or_cab'][k[6].lower()])\n",
    "        if k[5] == 'Gemstone PR':\n",
    "            co.append(str(data['gemstone_pr'][str(k[6])]))\n",
    "        if k[5] == 'Per Pc or Per Carat':\n",
    "            co.append(data['per_pc_per_carat'][k[6].lower()])\n",
    "    \n",
    "    # Generate item_code\n",
    "    item_code = 'G-' + '-'.join(co)\n",
    "    \n",
    "    # Append item_code to the first element of the group\n",
    "    first_item.append(item_code)\n",
    "\n",
    "# Convert the modified list of lists back to DataFrame\n",
    "df_updated = pd.DataFrame(all_lists, columns=df1.columns.tolist() + ['item_code'])\n",
    "\n",
    "# Optionally, you can save the updated DataFrame to an Excel file\n",
    "df_updated.to_excel(\"CODE_3_updated.xlsx\", index=False)\n"
   ]
  },
  {
   "cell_type": "code",
   "execution_count": null,
   "metadata": {},
   "outputs": [],
   "source": []
  }
 ],
 "metadata": {
  "kernelspec": {
   "display_name": "base",
   "language": "python",
   "name": "python3"
  },
  "language_info": {
   "codemirror_mode": {
    "name": "ipython",
    "version": 3
   },
   "file_extension": ".py",
   "mimetype": "text/x-python",
   "name": "python",
   "nbconvert_exporter": "python",
   "pygments_lexer": "ipython3",
   "version": "3.12.4"
  }
 },
 "nbformat": 4,
 "nbformat_minor": 2
}
