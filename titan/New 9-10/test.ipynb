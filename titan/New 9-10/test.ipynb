{
 "cells": [
  {
   "cell_type": "code",
   "execution_count": 4,
   "metadata": {},
   "outputs": [],
   "source": [
    "import pandas as pd"
   ]
  },
  {
   "cell_type": "code",
   "execution_count": 13,
   "metadata": {},
   "outputs": [],
   "source": [
    "# make gemstone Item code from final_data.json file\n",
    "\n",
    "df = pd.read_excel(\"titan 2 - 1.xlsx\")\n",
    "import json\n",
    "codes = []\n",
    "# box = []\n",
    "# Assuming the JSON data is stored in a file named \"data.json\"\n",
    "with open('final_data 1.json', 'r') as file:\n",
    "    data = json.load(file)\n",
    "    # print(data)\n",
    "for i in df.values.tolist():\n",
    "    # print(i)\n",
    "    code = 'G-' + data['gemstone_type'][i[0].lower()] + '-' + data['stone_shape'][i[1].lower()] + '-' + data['gemstone_quality'][i[2].lower()] + '-' + data['gemstone_grade'][i[3].lower()] + '-' + data['gemstone_size'][i[4].lower()] + '-' + data['cut_or_cab'][i[5].lower()] \n",
    "    # + '-' + str(data['gemstone_pr'][str(i[6]).split('.')[0]]) + '-' + data['per_pc_per_carat'][i[7].lower()]\n",
    "    # print(code)\n",
    "    codes.append(code)\n",
    "    # box.append(i[8])\n",
    "\n",
    "df['Gemstone Code'] = codes\n",
    "# df['Box No'] = box\n",
    "df.to_excel('Titan gemstone code Sheet 2.xlsx',index=False)"
   ]
  },
  {
   "cell_type": "code",
   "execution_count": 14,
   "metadata": {},
   "outputs": [],
   "source": [
    "df1 = pd.read_excel(\"Titan gemstone code Sheet 2.xlsx\")\n",
    "a = []\n",
    "for i in df1.values.tolist():\n",
    "    gem_type = []\n",
    "    stone_shape = []\n",
    "    gemstone_quality = []\n",
    "    gemstone_grade = []\n",
    "    gemstone_size = []\n",
    "    cut_or_cab = []\n",
    "    # gemstone_pr = []\n",
    "    # per_pc_per_carat = []\n",
    "\n",
    "    # print(i[6])\n",
    "\n",
    "\n",
    "    gem_type.append(\"Gemstone Type\")\n",
    "    gem_type.append(i[0])\n",
    "    gem_type.append(\"G\")\n",
    "    gem_type.append(\"Gemstone - V\")\n",
    "    gem_type.append(\"Carat\")\n",
    "    gem_type.append(\"G\")\n",
    "    gem_type.append(\"1\")\n",
    "    gem_type.append(\"1\")\n",
    "    gem_type.append(i[6])\n",
    "    # gem_type.append(\"KG GK Jewellers Private Limited\")\n",
    "    # gem_type.append(i[9])\n",
    "\n",
    "    # stone_shape.append(None)\n",
    "    stone_shape.append(\"Stone Shape\")\n",
    "    stone_shape.append(i[1])\n",
    "    stone_shape.append(\"G\")\n",
    "\n",
    "    # gemstone_quality.append(None)\n",
    "    gemstone_quality.append(\"Gemstone Quality\")\n",
    "    gemstone_quality.append(i[2])\n",
    "    gemstone_quality.append(\"G\")\n",
    "    \n",
    "    # gemstone_grade.append(None)\n",
    "    gemstone_grade.append(\"Gemstone Grade\")\n",
    "    gemstone_grade.append(i[3])\n",
    "    gemstone_grade.append(\"G\")\n",
    "\n",
    "    # gemstone_size.append(None)\n",
    "    gemstone_size.append(\"Gemstone Size\")\n",
    "    gemstone_size.append(i[4])\n",
    "    gemstone_size.append(\"G\")\n",
    "\n",
    "    # cut_or_cab.append(None)\n",
    "    cut_or_cab.append(\"Faceted/Cabochon\")\n",
    "    cut_or_cab.append(i[5])\n",
    "    cut_or_cab.append(\"G\")\n",
    "\n",
    "    # gemstone_pr.append(None)\n",
    "    # gemstone_pr.append(\"Gemstone PR\")\n",
    "    # gemstone_pr.append(i[6])\n",
    "    # gemstone_pr.append(\"G\")\n",
    "\n",
    "    # # per_pc_per_carat.append(None)\n",
    "    # per_pc_per_carat.append(\"Per Pc or Per Carat\")\n",
    "    # per_pc_per_carat.append(i[7])\n",
    "    # per_pc_per_carat.append(\"G\")\n",
    "\n",
    "    a.append(gem_type)\n",
    "    a.append(stone_shape)\n",
    "    a.append(gemstone_quality)\n",
    "    a.append(gemstone_grade)\n",
    "    a.append(gemstone_size)\n",
    "    a.append(cut_or_cab)\n",
    "    # print(a)\n",
    "    # a.append(gemstone_pr)\n",
    "    # a.append(per_pc_per_carat)"
   ]
  },
  {
   "cell_type": "code",
   "execution_count": 15,
   "metadata": {},
   "outputs": [],
   "source": [
    "d1 = pd.DataFrame(a,columns=['Attribute (Variant Attributes)','Attribute Value (Variant Attributes)','Variant Of (Variant Attributes)','Item Group','Default Unit of Measure','Variant Of','Maintain Stock','Include Item In Manufacturing','Item Code'])\n",
    "# print(d1)"
   ]
  },
  {
   "cell_type": "code",
   "execution_count": 16,
   "metadata": {},
   "outputs": [],
   "source": [
    "d1.to_excel(\"Titan gemstone code Sheet 2 Ready For upload.xlsx\",index=False)"
   ]
  }
 ],
 "metadata": {
  "kernelspec": {
   "display_name": "Python 3",
   "language": "python",
   "name": "python3"
  },
  "language_info": {
   "codemirror_mode": {
    "name": "ipython",
    "version": 3
   },
   "file_extension": ".py",
   "mimetype": "text/x-python",
   "name": "python",
   "nbconvert_exporter": "python",
   "pygments_lexer": "ipython3",
   "version": "3.12.7"
  }
 },
 "nbformat": 4,
 "nbformat_minor": 2
}
